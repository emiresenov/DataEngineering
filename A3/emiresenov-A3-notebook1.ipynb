{
 "cells": [
  {
   "cell_type": "markdown",
   "id": "8600d9ea",
   "metadata": {},
   "source": [
    "## Application settings"
   ]
  },
  {
   "cell_type": "code",
   "execution_count": 1,
   "id": "cee5d94a",
   "metadata": {},
   "outputs": [
    {
     "name": "stderr",
     "output_type": "stream",
     "text": [
      "WARNING: An illegal reflective access operation has occurred\n",
      "WARNING: Illegal reflective access by org.apache.spark.unsafe.Platform (file:/home/ubuntu/.local/lib/python3.10/site-packages/pyspark/jars/spark-unsafe_2.12-3.2.3.jar) to constructor java.nio.DirectByteBuffer(long,int)\n",
      "WARNING: Please consider reporting this to the maintainers of org.apache.spark.unsafe.Platform\n",
      "WARNING: Use --illegal-access=warn to enable warnings of further illegal reflective access operations\n",
      "WARNING: All illegal access operations will be denied in a future release\n",
      "Using Spark's default log4j profile: org/apache/spark/log4j-defaults.properties\n",
      "Setting default log level to \"WARN\".\n",
      "To adjust logging level use sc.setLogLevel(newLevel). For SparkR, use setLogLevel(newLevel).\n",
      "23/02/16 19:18:47 WARN NativeCodeLoader: Unable to load native-hadoop library for your platform... using builtin-java classes where applicable\n"
     ]
    }
   ],
   "source": [
    "from pyspark.sql import SparkSession\n",
    "\n",
    "\n",
    "spark_session = SparkSession.builder\\\n",
    "    .master(\"spark://192.168.2.70:7077\") \\\n",
    "    .appName(\"emiresenov\")\\\n",
    "    .config(\"spark.dynamicAllocation.enabled\", True)\\\n",
    "    .config(\"spark.dynamicAllocation.shuffleTracking.enabled\",True)\\\n",
    "    .config(\"spark.shuffle.service.enabled\", True)\\\n",
    "    .config(\"spark.dynamicAllocation.executorIdleTimeout\",\"30s\")\\\n",
    "    .config(\"spark.cores.max\", 4)\\\n",
    "    .getOrCreate()\n"
   ]
  },
  {
   "cell_type": "markdown",
   "id": "3e3c723b",
   "metadata": {},
   "source": [
    "## Question A1"
   ]
  },
  {
   "cell_type": "code",
   "execution_count": 2,
   "id": "8ce4cf55",
   "metadata": {},
   "outputs": [],
   "source": [
    "# Define Spark context and read files\n",
    "\n",
    "spark_context = spark_session.sparkContext\n",
    "\n",
    "spark_context.setLogLevel(\"ERROR\")\n",
    "\n",
    "linesEng = spark_context.textFile('hdfs://192.168.2.70:9000/europarl/europarl-v7.sv-en.en')\n",
    "\n",
    "linesSV = spark_context.textFile('hdfs://192.168.2.70:9000/europarl/europarl-v7.sv-en.sv')"
   ]
  },
  {
   "cell_type": "code",
   "execution_count": 3,
   "id": "8f4a76bd",
   "metadata": {},
   "outputs": [
    {
     "name": "stderr",
     "output_type": "stream",
     "text": [
      "                                                                                \r"
     ]
    },
    {
     "name": "stdout",
     "output_type": "stream",
     "text": [
      "Number of lines, English version: 1862234\n"
     ]
    },
    {
     "name": "stderr",
     "output_type": "stream",
     "text": [
      "[Stage 1:===================>                                       (1 + 2) / 3]\r"
     ]
    },
    {
     "name": "stdout",
     "output_type": "stream",
     "text": [
      "Number of lines, Swedish version: 1862234\n"
     ]
    },
    {
     "name": "stderr",
     "output_type": "stream",
     "text": [
      "                                                                                \r"
     ]
    }
   ],
   "source": [
    "# Count lines in both languages and control that they are the same\n",
    "\n",
    "numLinesEng = linesEng.count()\n",
    "\n",
    "print(\"Number of lines, English version:\", numLinesEng)\n",
    "\n",
    "numLinesSV = linesSV.count()\n",
    "\n",
    "print(\"Number of lines, Swedish version:\", numLinesSV)\n",
    "\n",
    "assert(numLinesEng == numLinesSV)"
   ]
  },
  {
   "cell_type": "code",
   "execution_count": 4,
   "id": "a5a9d561",
   "metadata": {},
   "outputs": [
    {
     "name": "stdout",
     "output_type": "stream",
     "text": [
      "Number of partitions for English RDD:  2\n",
      "Number of partitions for Swedish RDD:  3\n"
     ]
    }
   ],
   "source": [
    "# Counting the number of partitions\n",
    "\n",
    "partitionsEng = linesEng.getNumPartitions()\n",
    "partitionsSV = linesSV.getNumPartitions()\n",
    "\n",
    "print(\"Number of partitions for English RDD: \", partitionsEng)\n",
    "print(\"Number of partitions for Swedish RDD: \", partitionsSV)"
   ]
  },
  {
   "cell_type": "markdown",
   "id": "aeba0c96",
   "metadata": {},
   "source": [
    "## Question A2 "
   ]
  },
  {
   "cell_type": "code",
   "execution_count": 5,
   "id": "9b148b03",
   "metadata": {},
   "outputs": [
    {
     "name": "stderr",
     "output_type": "stream",
     "text": [
      "                                                                                \r"
     ]
    },
    {
     "name": "stdout",
     "output_type": "stream",
     "text": [
      "[['resumption', 'of', 'the', 'session'], ['i', 'declare', 'resumed', 'the', 'session', 'of', 'the', 'european', 'parliament', 'adjourned', 'on', 'friday', '17', 'december', '1999,', 'and', 'i', 'would', 'like', 'once', 'again', 'to', 'wish', 'you', 'a', 'happy', 'new', 'year', 'in', 'the', 'hope', 'that', 'you', 'enjoyed', 'a', 'pleasant', 'festive', 'period.'], ['although,', 'as', 'you', 'will', 'have', 'seen,', 'the', 'dreaded', \"'millennium\", \"bug'\", 'failed', 'to', 'materialise,', 'still', 'the', 'people', 'in', 'a', 'number', 'of', 'countries', 'suffered', 'a', 'series', 'of', 'natural', 'disasters', 'that', 'truly', 'were', 'dreadful.'], ['you', 'have', 'requested', 'a', 'debate', 'on', 'this', 'subject', 'in', 'the', 'course', 'of', 'the', 'next', 'few', 'days,', 'during', 'this', 'part-session.'], ['in', 'the', 'meantime,', 'i', 'should', 'like', 'to', 'observe', 'a', \"minute'\", 's', 'silence,', 'as', 'a', 'number', 'of', 'members', 'have', 'requested,', 'on', 'behalf', 'of', 'all', 'the', 'victims', 'concerned,', 'particularly', 'those', 'of', 'the', 'terrible', 'storms,', 'in', 'the', 'various', 'countries', 'of', 'the', 'european', 'union.'], ['please', 'rise,', 'then,', 'for', 'this', \"minute'\", 's', 'silence.'], ['(the', 'house', 'rose', 'and', 'observed', 'a', \"minute'\", 's', 'silence)'], ['madam', 'president,', 'on', 'a', 'point', 'of', 'order.'], ['you', 'will', 'be', 'aware', 'from', 'the', 'press', 'and', 'television', 'that', 'there', 'have', 'been', 'a', 'number', 'of', 'bomb', 'explosions', 'and', 'killings', 'in', 'sri', 'lanka.'], ['one', 'of', 'the', 'people', 'assassinated', 'very', 'recently', 'in', 'sri', 'lanka', 'was', 'mr', 'kumar', 'ponnambalam,', 'who', 'had', 'visited', 'the', 'european', 'parliament', 'just', 'a', 'few', 'months', 'ago.']]\n"
     ]
    },
    {
     "name": "stderr",
     "output_type": "stream",
     "text": [
      "                                                                                \r"
     ]
    },
    {
     "name": "stdout",
     "output_type": "stream",
     "text": [
      "[['återupptagande', 'av', 'sessionen'], ['jag', 'förklarar', 'europaparlamentets', 'session', 'återupptagen', 'efter', 'avbrottet', 'den', '17', 'december.', 'jag', 'vill', 'på', 'nytt', 'önska', 'er', 'ett', 'gott', 'nytt', 'år', 'och', 'jag', 'hoppas', 'att', 'ni', 'haft', 'en', 'trevlig', 'semester.'], ['som', 'ni', 'kunnat', 'konstatera', 'ägde', '\"den', 'stora', 'år', '2000-buggen\"', 'aldrig', 'rum.', 'däremot', 'har', 'invånarna', 'i', 'ett', 'antal', 'av', 'våra', 'medlemsländer', 'drabbats', 'av', 'naturkatastrofer', 'som', 'verkligen', 'varit', 'förskräckliga.'], ['ni', 'har', 'begärt', 'en', 'debatt', 'i', 'ämnet', 'under', 'sammanträdesperiodens', 'kommande', 'dagar.'], ['till', 'dess', 'vill', 'jag', 'att', 'vi,', 'som', 'ett', 'antal', 'kolleger', 'begärt,', 'håller', 'en', 'tyst', 'minut', 'för', 'offren', 'för', 'bl.a.', 'stormarna', 'i', 'de', 'länder', 'i', 'europeiska', 'unionen', 'som', 'drabbats.'], ['jag', 'ber', 'er', 'resa', 'er', 'för', 'en', 'tyst', 'minut.'], ['(parlamentet', 'höll', 'en', 'tyst', 'minut.)'], ['fru', 'talman!', 'det', 'gäller', 'en', 'ordningsfråga.'], ['ni', 'känner', 'till', 'från', 'media', 'att', 'det', 'skett', 'en', 'rad', 'bombexplosioner', 'och', 'mord', 'i', 'sri', 'lanka.'], ['en', 'av', 'de', 'personer', 'som', 'mycket', 'nyligen', 'mördades', 'i', 'sri', 'lanka', 'var', 'kumar', 'ponnambalam,', 'som', 'besökte', 'europaparlamentet', 'för', 'bara', 'några', 'månader', 'sedan.']]\n"
     ]
    },
    {
     "name": "stderr",
     "output_type": "stream",
     "text": [
      "                                                                                \r"
     ]
    }
   ],
   "source": [
    "# Pre-processing function: lowercases the text and splits on space\n",
    "def caseAndToken(lines):\n",
    "    return lines.map(lambda line: line.lower().split(' '))\n",
    "\n",
    "# Process text from RDDS\n",
    "ppLinesEng = caseAndToken(linesEng)\n",
    "ppLinesSV = caseAndToken(linesSV)\n",
    "\n",
    "print(ppLinesEng.take(10))\n",
    "print(ppLinesSV.take(10))\n",
    "\n",
    "# Verify that line counts still match\n",
    "assert(ppLinesSV.count() == ppLinesEng.count())"
   ]
  },
  {
   "cell_type": "markdown",
   "id": "169b27f0",
   "metadata": {},
   "source": [
    "## Question A3"
   ]
  },
  {
   "cell_type": "code",
   "execution_count": 6,
   "id": "947c14f4",
   "metadata": {},
   "outputs": [
    {
     "name": "stderr",
     "output_type": "stream",
     "text": [
      "                                                                                \r"
     ]
    },
    {
     "name": "stdout",
     "output_type": "stream",
     "text": [
      "[('we', 522849), ('for', 534242), ('is', 758050), ('a', 773522), ('that', 797516), ('in', 1085993), ('and', 1288401), ('to', 1539760), ('of', 1659758), ('the', 3498375)]\n"
     ]
    },
    {
     "name": "stderr",
     "output_type": "stream",
     "text": [
      "                                                                                \r"
     ]
    },
    {
     "name": "stdout",
     "output_type": "stream",
     "text": [
      "[('vi', 539797), ('en', 620310), ('är', 694381), ('av', 738068), ('för', 908680), ('som', 913276), ('det', 924866), ('i', 1050774), ('och', 1344830), ('att', 1706293)]\n"
     ]
    }
   ],
   "source": [
    "from operator import add\n",
    "\n",
    "def wordFreq(ppLines):\n",
    "    return (ppLines.filter(lambda x: len(x) > 0)       # filter out empty lines\n",
    "        .flatMap(lambda x: x)                          # flatMap to single words\n",
    "        .filter(lambda x: len(x) > 0)                  # filter out empty words\n",
    "        .map(lambda x: (x,1))                          # create (word, 1) pairs\n",
    "        .reduceByKey(add)                              # reduce the key-value pair by adding up\n",
    "        .sortBy(lambda x: x[1])                        # sort by value\n",
    "        .collect()                                     # collect the result\n",
    "        [-10:])                                        # take the last 10 entries\n",
    "\n",
    "print(wordFreq(ppLinesEng))\n",
    "print(wordFreq(ppLinesSV))"
   ]
  },
  {
   "cell_type": "markdown",
   "id": "b39fa4c4",
   "metadata": {},
   "source": [
    "### A 3.2\n",
    "\n",
    "#### English\n",
    "The 10 most common words used in the English language is \n",
    "\n",
    "1. the\n",
    "2. of\n",
    "3. and\n",
    "4. a\n",
    "5. to\n",
    "6. in\n",
    "7. is\n",
    "8. you\n",
    "9. that\n",
    "10. it\n",
    "\n",
    "We can expect some deviation here as the texts are transcripts from the European Parliament, but overall, the result makes sense as we see a lot of the same words appearing in the top 10. Aditionally, all of the most common words collected appear in the top 40 list of the 100 most common English words. The word that deviates the most is the word \"we\" which appears at rank 36.\n",
    "\n",
    "Source: https://www.espressoenglish.net/the-100-most-common-words-in-english/\n",
    "\n",
    "#### Swedish\n",
    "\n",
    "For the Swedish language, all of the words except for \"vi\" appears in the top 10 most common words used in the Swedish language where \"vi\" appears at rank 25. This makes sense as \"vi\" is the translation of the word \"we\", confirming that this slight outlier sees a lot of use in the transcripts for both languages.\n",
    "\n",
    "Source: https://larare.at/svenska/moment/lingvistik/vanligaste_orden_i_svenska_spraket.html"
   ]
  },
  {
   "cell_type": "markdown",
   "id": "bf3a603d",
   "metadata": {},
   "source": [
    "## Question A.4"
   ]
  },
  {
   "cell_type": "code",
   "execution_count": 7,
   "id": "bc04a8ca",
   "metadata": {},
   "outputs": [
    {
     "name": "stderr",
     "output_type": "stream",
     "text": [
      "[Stage 22:>                                                         (0 + 1) / 1]\r"
     ]
    },
    {
     "name": "stdout",
     "output_type": "stream",
     "text": [
      "[(['återupptagande', 'av', 'sessionen'], 0), (['jag', 'förklarar', 'europaparlamentets', 'session', 'återupptagen', 'efter', 'avbrottet', 'den', '17', 'december.', 'jag', 'vill', 'på', 'nytt', 'önska', 'er', 'ett', 'gott', 'nytt', 'år', 'och', 'jag', 'hoppas', 'att', 'ni', 'haft', 'en', 'trevlig', 'semester.'], 1)]\n"
     ]
    },
    {
     "name": "stderr",
     "output_type": "stream",
     "text": [
      "                                                                                \r"
     ]
    }
   ],
   "source": [
    "# 1 - Key the lines by their line number\n",
    "en1 = ppLinesEng.zipWithIndex()\n",
    "sv1 = ppLinesSV.zipWithIndex()\n",
    "\n",
    "print(sv1.take(2))"
   ]
  },
  {
   "cell_type": "code",
   "execution_count": 8,
   "id": "805c6f6d",
   "metadata": {},
   "outputs": [
    {
     "name": "stderr",
     "output_type": "stream",
     "text": [
      "[Stage 23:>                                                         (0 + 1) / 1]\r"
     ]
    },
    {
     "name": "stdout",
     "output_type": "stream",
     "text": [
      "[(0, ['återupptagande', 'av', 'sessionen']), (1, ['jag', 'förklarar', 'europaparlamentets', 'session', 'återupptagen', 'efter', 'avbrottet', 'den', '17', 'december.', 'jag', 'vill', 'på', 'nytt', 'önska', 'er', 'ett', 'gott', 'nytt', 'år', 'och', 'jag', 'hoppas', 'att', 'ni', 'haft', 'en', 'trevlig', 'semester.'])]\n"
     ]
    },
    {
     "name": "stderr",
     "output_type": "stream",
     "text": [
      "                                                                                \r"
     ]
    }
   ],
   "source": [
    "# 2 - Swap the key and value\n",
    "en2 = en1.map(lambda x: (x[1], x[0]))\n",
    "sv2 = sv1.map(lambda x: (x[1], x[0]))\n",
    "\n",
    "print(sv2.take(2))"
   ]
  },
  {
   "cell_type": "code",
   "execution_count": 9,
   "id": "51edfaa1",
   "metadata": {},
   "outputs": [
    {
     "name": "stderr",
     "output_type": "stream",
     "text": [
      "[Stage 25:>                                                         (0 + 1) / 1]\r"
     ]
    },
    {
     "name": "stdout",
     "output_type": "stream",
     "text": [
      "[(1985, (['fourthly,', 'we', 'need', 'the', 'shipowner', 'to', 'bear', 'liability,', 'and', 'not', 'just', 'to', 'the', 'tune', 'of', 'a', 'derisory', 'usd', '12', 'million,', 'but', 'to', 'the', 'value', 'of', 'at', 'least', 'usd', '400', 'million,', 'to', 'be', 'covered', 'per', 'insurance', 'certificate.'], ['för', 'det', 'fjärde', 'måste', 'det', 'finnas', 'ett', 'ansvar', 'hos', 'fartygsägaren,', 'och', 'inte', 'bara', 'skrattretande', '12', 'miljoner', 'dollar,', 'utan', 'minst', '400', 'miljoner', 'dollar,', 'vilket', 'han', 'måste', 'styrka', 'med', 'hjälp', 'av', 'försäkringsbevis.'])), (26795, (['b5-0283/2000', 'by', 'mr', 'elles', 'and', 'others', 'on', 'behalf', 'of', 'the', 'group', 'of', 'the', 'european', \"people'\", 's', 'party', '(christian', 'democrats)', 'and', 'european', 'democrats;'], ['b5-0283/2000', 'av', 'elles', 'med', 'flera', 'för', 'europeiska', 'folkpartiets', 'grupp', '(kristdemokrater)', 'och', 'europademokrater;']))]\n"
     ]
    },
    {
     "name": "stderr",
     "output_type": "stream",
     "text": [
      "                                                                                \r"
     ]
    }
   ],
   "source": [
    "# 3 - Join the two RDDS\n",
    "joined = en2.join(sv2)\n",
    "print(joined.take(2))"
   ]
  },
  {
   "cell_type": "code",
   "execution_count": 10,
   "id": "fbb0e5fa",
   "metadata": {},
   "outputs": [
    {
     "name": "stderr",
     "output_type": "stream",
     "text": [
      "                                                                                \r"
     ]
    },
    {
     "name": "stdout",
     "output_type": "stream",
     "text": [
      "1862234\n"
     ]
    },
    {
     "name": "stderr",
     "output_type": "stream",
     "text": [
      "                                                                                \r"
     ]
    },
    {
     "name": "stdout",
     "output_type": "stream",
     "text": [
      "1840400\n"
     ]
    },
    {
     "name": "stderr",
     "output_type": "stream",
     "text": [
      "[Stage 31:==============================================>           (4 + 1) / 5]\r"
     ]
    },
    {
     "name": "stdout",
     "output_type": "stream",
     "text": [
      "1835711\n"
     ]
    },
    {
     "name": "stderr",
     "output_type": "stream",
     "text": [
      "                                                                                \r"
     ]
    }
   ],
   "source": [
    "# 4 - Filter missing corresponding sentences\n",
    "join2 = joined.filter(lambda x: len(x[1][0]) > 1)\n",
    "join3 = join2.filter(lambda x: len(x[1][1]) > 1)\n",
    "\n",
    "print(joined.count())\n",
    "print(join2.count())\n",
    "print(join3.count())"
   ]
  },
  {
   "cell_type": "code",
   "execution_count": 11,
   "id": "da98b419",
   "metadata": {},
   "outputs": [
    {
     "name": "stderr",
     "output_type": "stream",
     "text": [
      "[Stage 33:==============================================>           (4 + 1) / 5]\r"
     ]
    },
    {
     "name": "stdout",
     "output_type": "stream",
     "text": [
      "188176\n"
     ]
    },
    {
     "name": "stderr",
     "output_type": "stream",
     "text": [
      "                                                                                \r"
     ]
    }
   ],
   "source": [
    "# 5 - Filter for sentences with less than 10 words\n",
    "join4 = join3.filter(lambda x: len(x[1][0]) < 10 and len(x[1][1]) < 10)\n",
    "print(join4.count())"
   ]
  },
  {
   "cell_type": "code",
   "execution_count": 12,
   "id": "027e1dd7",
   "metadata": {},
   "outputs": [
    {
     "name": "stderr",
     "output_type": "stream",
     "text": [
      "[Stage 35:==============================================>           (4 + 1) / 5]\r"
     ]
    },
    {
     "name": "stdout",
     "output_type": "stream",
     "text": [
      "63913\n"
     ]
    },
    {
     "name": "stderr",
     "output_type": "stream",
     "text": [
      "                                                                                \r"
     ]
    }
   ],
   "source": [
    "# 6 - Filter to leave only equally worded sentences\n",
    "join5 = join4.filter(lambda x: len(x[1][0]) == len(x[1][1]))\n",
    "print(join5.count())"
   ]
  },
  {
   "cell_type": "code",
   "execution_count": 13,
   "id": "ee712b43",
   "metadata": {},
   "outputs": [
    {
     "name": "stderr",
     "output_type": "stream",
     "text": [
      "                                                                                \r"
     ]
    },
    {
     "data": {
      "text/plain": [
       "[[('the', 'jag'),\n",
       "  ('debate', 'förklarar'),\n",
       "  ('is', 'debatten'),\n",
       "  ('closed.', 'avslutad.')],\n",
       " [('that', 'detta'),\n",
       "  ('is', 'är'),\n",
       "  ('an', 'en'),\n",
       "  ('important', 'viktig'),\n",
       "  ('task.', 'uppgift.')]]"
      ]
     },
     "execution_count": 13,
     "metadata": {},
     "output_type": "execute_result"
    }
   ],
   "source": [
    "# 7 - Pair the words in the sentences\n",
    "join6 = join5.map(lambda x: list(zip(x[1][0], x[1][1])))\n",
    "join6.take(2)"
   ]
  },
  {
   "cell_type": "code",
   "execution_count": 14,
   "id": "778b1f65",
   "metadata": {},
   "outputs": [
    {
     "name": "stderr",
     "output_type": "stream",
     "text": [
      "                                                                                \r"
     ]
    },
    {
     "data": {
      "text/plain": [
       "[(('not', 'inte'), 2650),\n",
       " (('that', 'det'), 2806),\n",
       " (('it', 'det'), 2866),\n",
       " (('and', 'och'), 2882),\n",
       " (('a', 'en'), 2888),\n",
       " (('closed.', 'avslutad.'), 2964),\n",
       " (('this', 'detta'), 3252),\n",
       " (('i', 'jag'), 5020),\n",
       " (('we', 'vi'), 5530),\n",
       " (('is', 'är'), 10040)]"
      ]
     },
     "execution_count": 14,
     "metadata": {},
     "output_type": "execute_result"
    }
   ],
   "source": [
    "# 8 & 9 - Reduce to count word-translation pair occurrences, print most frequent word-pairs\n",
    "join7 = (join6.flatMap(lambda x : x)\n",
    "        .map(lambda x: (x,1))\n",
    "        .reduceByKey(add)\n",
    "        .sortBy(lambda x: x[1])\n",
    "        .collect()\n",
    "        [-10:])\n",
    "join7"
   ]
  },
  {
   "cell_type": "markdown",
   "id": "519265c4",
   "metadata": {},
   "source": [
    "## Result\n",
    "\n",
    "The top 10 most frequently occuring word pairs are all correctly translated, concluding that the translations indeed seem reasonable."
   ]
  },
  {
   "cell_type": "code",
   "execution_count": null,
   "id": "65c2f2f0",
   "metadata": {},
   "outputs": [],
   "source": []
  }
 ],
 "metadata": {
  "kernelspec": {
   "display_name": "Python 3 (ipykernel)",
   "language": "python",
   "name": "python3"
  },
  "language_info": {
   "codemirror_mode": {
    "name": "ipython",
    "version": 3
   },
   "file_extension": ".py",
   "mimetype": "text/x-python",
   "name": "python",
   "nbconvert_exporter": "python",
   "pygments_lexer": "ipython3",
   "version": "3.10.6"
  }
 },
 "nbformat": 4,
 "nbformat_minor": 5
}
